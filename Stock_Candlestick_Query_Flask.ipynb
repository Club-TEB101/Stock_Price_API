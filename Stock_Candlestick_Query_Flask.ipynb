{
 "cells": [
  {
   "cell_type": "markdown",
   "metadata": {},
   "source": [
    "# Candlestick Chat for Stock"
   ]
  },
  {
   "cell_type": "code",
   "execution_count": null,
   "metadata": {},
   "outputs": [
    {
     "name": "stdout",
     "output_type": "stream",
     "text": [
      " * Serving Flask app \"__main__\" (lazy loading)\n",
      " * Environment: production\n",
      "   WARNING: This is a development server. Do not use it in a production deployment.\n",
      "   Use a production WSGI server instead.\n",
      " * Debug mode: off\n"
     ]
    },
    {
     "name": "stderr",
     "output_type": "stream",
     "text": [
      " * Running on http://127.0.0.1:5000/ (Press CTRL+C to quit)\n",
      "127.0.0.1 - - [09/Jun/2020 17:38:02] \"\u001b[37mGET / HTTP/1.1\u001b[0m\" 200 -\n"
     ]
    },
    {
     "name": "stdout",
     "output_type": "stream",
     "text": [
      "2020-06-09 17:38:05,483 INFO sqlalchemy.engine.base.Engine SHOW VARIABLES LIKE 'sql_mode'\n",
      "2020-06-09 17:38:05,486 INFO sqlalchemy.engine.base.Engine {}\n",
      "2020-06-09 17:38:05,490 INFO sqlalchemy.engine.base.Engine SHOW VARIABLES LIKE 'lower_case_table_names'\n",
      "2020-06-09 17:38:05,491 INFO sqlalchemy.engine.base.Engine {}\n",
      "2020-06-09 17:38:05,496 INFO sqlalchemy.engine.base.Engine SELECT DATABASE()\n",
      "2020-06-09 17:38:05,498 INFO sqlalchemy.engine.base.Engine {}\n",
      "2020-06-09 17:38:05,500 INFO sqlalchemy.engine.base.Engine show collation where `Charset` = 'utf8mb4' and `Collation` = 'utf8mb4_bin'\n",
      "2020-06-09 17:38:05,501 INFO sqlalchemy.engine.base.Engine {}\n",
      "2020-06-09 17:38:05,507 INFO sqlalchemy.engine.base.Engine SELECT CAST('test plain returns' AS CHAR(60)) AS anon_1\n",
      "2020-06-09 17:38:05,507 INFO sqlalchemy.engine.base.Engine {}\n",
      "2020-06-09 17:38:05,509 INFO sqlalchemy.engine.base.Engine SELECT CAST('test unicode returns' AS CHAR(60)) AS anon_1\n",
      "2020-06-09 17:38:05,510 INFO sqlalchemy.engine.base.Engine {}\n",
      "2020-06-09 17:38:05,513 INFO sqlalchemy.engine.base.Engine SELECT CAST('test collated returns' AS CHAR CHARACTER SET utf8mb4) COLLATE utf8mb4_bin AS anon_1\n",
      "2020-06-09 17:38:05,515 INFO sqlalchemy.engine.base.Engine {}\n",
      "2020-06-09 17:38:05,517 INFO sqlalchemy.engine.base.Engine BEGIN (implicit)\n",
      "2020-06-09 17:38:05,519 INFO sqlalchemy.engine.base.Engine SELECT transactions.sid AS transactions_sid, transactions.date AS transactions_date, transactions.capacity AS transactions_capacity, transactions.turnover AS transactions_turnover, transactions.open AS transactions_open, transactions.high AS transactions_high, transactions.low AS transactions_low, transactions.close AS transactions_close, transactions.transaction AS transactions_transaction \n",
      "FROM transactions \n",
      "WHERE transactions.sid = %(sid_1)s\n",
      "2020-06-09 17:38:05,519 INFO sqlalchemy.engine.base.Engine {'sid_1': '2330'}\n",
      "2020-06-09 17:38:05,538 INFO sqlalchemy.engine.base.Engine ROLLBACK\n"
     ]
    },
    {
     "name": "stderr",
     "output_type": "stream",
     "text": [
      "127.0.0.1 - - [09/Jun/2020 17:38:05] \"\u001b[37mPOST /Kline HTTP/1.1\u001b[0m\" 200 -\n",
      "127.0.0.1 - - [09/Jun/2020 17:38:48] \"\u001b[37mGET / HTTP/1.1\u001b[0m\" 200 -\n",
      "127.0.0.1 - - [09/Jun/2020 17:38:48] \"\u001b[37mGET /static/css/bootstrap.css HTTP/1.1\u001b[0m\" 200 -\n",
      "127.0.0.1 - - [09/Jun/2020 17:38:48] \"\u001b[37mGET /static/js/post.js HTTP/1.1\u001b[0m\" 200 -\n",
      "127.0.0.1 - - [09/Jun/2020 17:38:48] \"\u001b[37mGET /static/css/bootstrap.min.css HTTP/1.1\u001b[0m\" 200 -\n",
      "127.0.0.1 - - [09/Jun/2020 17:38:48] \"\u001b[37mGET /static/js/jquery-3.3.1.min.js HTTP/1.1\u001b[0m\" 200 -\n",
      "127.0.0.1 - - [09/Jun/2020 17:38:48] \"\u001b[37mGET /static/js/echarts.min.js HTTP/1.1\u001b[0m\" 200 -\n",
      "127.0.0.1 - - [09/Jun/2020 17:38:48] \"\u001b[33mGET /favicon.ico HTTP/1.1\u001b[0m\" 404 -\n"
     ]
    },
    {
     "name": "stdout",
     "output_type": "stream",
     "text": [
      "2020-06-09 17:38:59,614 INFO sqlalchemy.engine.base.Engine BEGIN (implicit)\n",
      "2020-06-09 17:38:59,617 INFO sqlalchemy.engine.base.Engine SELECT transactions.sid AS transactions_sid, transactions.date AS transactions_date, transactions.capacity AS transactions_capacity, transactions.turnover AS transactions_turnover, transactions.open AS transactions_open, transactions.high AS transactions_high, transactions.low AS transactions_low, transactions.close AS transactions_close, transactions.transaction AS transactions_transaction \n",
      "FROM transactions \n",
      "WHERE transactions.sid = %(sid_1)s\n",
      "2020-06-09 17:38:59,618 INFO sqlalchemy.engine.base.Engine {'sid_1': '2330'}\n",
      "2020-06-09 17:38:59,641 INFO sqlalchemy.engine.base.Engine ROLLBACK\n"
     ]
    },
    {
     "name": "stderr",
     "output_type": "stream",
     "text": [
      "127.0.0.1 - - [09/Jun/2020 17:38:59] \"\u001b[37mPOST /Kline HTTP/1.1\u001b[0m\" 200 -\n",
      "127.0.0.1 - - [09/Jun/2020 17:40:03] \"\u001b[37mGET / HTTP/1.1\u001b[0m\" 200 -\n",
      "127.0.0.1 - - [09/Jun/2020 17:40:12] \"\u001b[37mGET / HTTP/1.1\u001b[0m\" 200 -\n",
      "127.0.0.1 - - [09/Jun/2020 17:40:12] \"\u001b[37mGET /static/css/bootstrap.css HTTP/1.1\u001b[0m\" 200 -\n",
      "127.0.0.1 - - [09/Jun/2020 17:40:12] \"\u001b[37mGET /static/css/bootstrap.min.css HTTP/1.1\u001b[0m\" 200 -\n",
      "127.0.0.1 - - [09/Jun/2020 17:40:12] \"\u001b[37mGET /static/js/jquery-3.3.1.min.js HTTP/1.1\u001b[0m\" 200 -\n",
      "127.0.0.1 - - [09/Jun/2020 17:40:12] \"\u001b[37mGET /static/js/post.js HTTP/1.1\u001b[0m\" 200 -\n",
      "127.0.0.1 - - [09/Jun/2020 17:40:12] \"\u001b[37mGET /static/js/echarts.min.js HTTP/1.1\u001b[0m\" 200 -\n",
      "127.0.0.1 - - [09/Jun/2020 17:40:12] \"\u001b[33mGET /favicon.ico HTTP/1.1\u001b[0m\" 404 -\n"
     ]
    },
    {
     "name": "stdout",
     "output_type": "stream",
     "text": [
      "2020-06-09 17:40:20,192 INFO sqlalchemy.engine.base.Engine BEGIN (implicit)\n",
      "2020-06-09 17:40:20,196 INFO sqlalchemy.engine.base.Engine SELECT transactions.sid AS transactions_sid, transactions.date AS transactions_date, transactions.capacity AS transactions_capacity, transactions.turnover AS transactions_turnover, transactions.open AS transactions_open, transactions.high AS transactions_high, transactions.low AS transactions_low, transactions.close AS transactions_close, transactions.transaction AS transactions_transaction \n",
      "FROM transactions \n",
      "WHERE transactions.sid = %(sid_1)s\n",
      "2020-06-09 17:40:20,196 INFO sqlalchemy.engine.base.Engine {'sid_1': '2330'}\n",
      "2020-06-09 17:40:20,219 INFO sqlalchemy.engine.base.Engine ROLLBACK\n"
     ]
    },
    {
     "name": "stderr",
     "output_type": "stream",
     "text": [
      "127.0.0.1 - - [09/Jun/2020 17:40:20] \"\u001b[37mPOST /Kline HTTP/1.1\u001b[0m\" 200 -\n",
      "127.0.0.1 - - [09/Jun/2020 17:41:10] \"\u001b[37mGET / HTTP/1.1\u001b[0m\" 200 -\n",
      "127.0.0.1 - - [09/Jun/2020 17:41:10] \"\u001b[37mGET /static/css/bootstrap.css HTTP/1.1\u001b[0m\" 200 -\n",
      "127.0.0.1 - - [09/Jun/2020 17:41:10] \"\u001b[37mGET /static/css/bootstrap.min.css HTTP/1.1\u001b[0m\" 200 -\n",
      "127.0.0.1 - - [09/Jun/2020 17:41:10] \"\u001b[37mGET /static/js/jquery-3.3.1.min.js HTTP/1.1\u001b[0m\" 200 -\n",
      "127.0.0.1 - - [09/Jun/2020 17:41:10] \"\u001b[37mGET /static/js/post.js HTTP/1.1\u001b[0m\" 200 -\n",
      "127.0.0.1 - - [09/Jun/2020 17:41:10] \"\u001b[37mGET /static/js/echarts.min.js HTTP/1.1\u001b[0m\" 200 -\n",
      "127.0.0.1 - - [09/Jun/2020 17:41:10] \"\u001b[33mGET /favicon.ico HTTP/1.1\u001b[0m\" 404 -\n"
     ]
    },
    {
     "name": "stdout",
     "output_type": "stream",
     "text": [
      "2020-06-09 17:41:16,819 INFO sqlalchemy.engine.base.Engine BEGIN (implicit)\n",
      "2020-06-09 17:41:16,822 INFO sqlalchemy.engine.base.Engine SELECT transactions.sid AS transactions_sid, transactions.date AS transactions_date, transactions.capacity AS transactions_capacity, transactions.turnover AS transactions_turnover, transactions.open AS transactions_open, transactions.high AS transactions_high, transactions.low AS transactions_low, transactions.close AS transactions_close, transactions.transaction AS transactions_transaction \n",
      "FROM transactions \n",
      "WHERE transactions.sid = %(sid_1)s\n",
      "2020-06-09 17:41:16,823 INFO sqlalchemy.engine.base.Engine {'sid_1': '2330'}\n",
      "2020-06-09 17:41:16,846 INFO sqlalchemy.engine.base.Engine ROLLBACK\n"
     ]
    },
    {
     "name": "stderr",
     "output_type": "stream",
     "text": [
      "127.0.0.1 - - [09/Jun/2020 17:41:16] \"\u001b[37mPOST /Kline HTTP/1.1\u001b[0m\" 200 -\n",
      "127.0.0.1 - - [09/Jun/2020 17:45:13] \"\u001b[37mGET / HTTP/1.1\u001b[0m\" 200 -\n",
      "127.0.0.1 - - [09/Jun/2020 17:45:13] \"\u001b[37mGET /static/css/bootstrap.css HTTP/1.1\u001b[0m\" 200 -\n",
      "127.0.0.1 - - [09/Jun/2020 17:45:13] \"\u001b[37mGET /static/css/bootstrap.min.css HTTP/1.1\u001b[0m\" 200 -\n",
      "127.0.0.1 - - [09/Jun/2020 17:45:13] \"\u001b[37mGET /static/js/jquery-3.3.1.min.js HTTP/1.1\u001b[0m\" 200 -\n",
      "127.0.0.1 - - [09/Jun/2020 17:45:13] \"\u001b[37mGET /static/js/post.js HTTP/1.1\u001b[0m\" 200 -\n",
      "127.0.0.1 - - [09/Jun/2020 17:45:13] \"\u001b[37mGET /static/js/echarts.min.js HTTP/1.1\u001b[0m\" 200 -\n",
      "127.0.0.1 - - [09/Jun/2020 17:45:13] \"\u001b[33mGET /favicon.ico HTTP/1.1\u001b[0m\" 404 -\n"
     ]
    },
    {
     "name": "stdout",
     "output_type": "stream",
     "text": [
      "2020-06-09 17:45:24,865 INFO sqlalchemy.engine.base.Engine BEGIN (implicit)\n",
      "2020-06-09 17:45:24,869 INFO sqlalchemy.engine.base.Engine SELECT transactions.sid AS transactions_sid, transactions.date AS transactions_date, transactions.capacity AS transactions_capacity, transactions.turnover AS transactions_turnover, transactions.open AS transactions_open, transactions.high AS transactions_high, transactions.low AS transactions_low, transactions.close AS transactions_close, transactions.transaction AS transactions_transaction \n",
      "FROM transactions \n",
      "WHERE transactions.sid = %(sid_1)s\n",
      "2020-06-09 17:45:24,869 INFO sqlalchemy.engine.base.Engine {'sid_1': '2330'}\n",
      "2020-06-09 17:45:24,891 INFO sqlalchemy.engine.base.Engine ROLLBACK\n"
     ]
    },
    {
     "name": "stderr",
     "output_type": "stream",
     "text": [
      "127.0.0.1 - - [09/Jun/2020 17:45:24] \"\u001b[37mPOST /Kline HTTP/1.1\u001b[0m\" 200 -\n",
      "127.0.0.1 - - [09/Jun/2020 17:46:27] \"\u001b[37mGET / HTTP/1.1\u001b[0m\" 200 -\n",
      "127.0.0.1 - - [09/Jun/2020 17:46:27] \"\u001b[37mGET /static/css/bootstrap.css HTTP/1.1\u001b[0m\" 200 -\n",
      "127.0.0.1 - - [09/Jun/2020 17:46:27] \"\u001b[37mGET /static/js/jquery-3.3.1.min.js HTTP/1.1\u001b[0m\" 200 -\n",
      "127.0.0.1 - - [09/Jun/2020 17:46:27] \"\u001b[37mGET /static/css/bootstrap.min.css HTTP/1.1\u001b[0m\" 200 -\n",
      "127.0.0.1 - - [09/Jun/2020 17:46:27] \"\u001b[37mGET /static/js/post.js HTTP/1.1\u001b[0m\" 200 -\n",
      "127.0.0.1 - - [09/Jun/2020 17:46:27] \"\u001b[37mGET /static/js/echarts.min.js HTTP/1.1\u001b[0m\" 200 -\n",
      "127.0.0.1 - - [09/Jun/2020 17:46:27] \"\u001b[33mGET /favicon.ico HTTP/1.1\u001b[0m\" 404 -\n"
     ]
    },
    {
     "name": "stdout",
     "output_type": "stream",
     "text": [
      "2020-06-09 17:46:31,157 INFO sqlalchemy.engine.base.Engine BEGIN (implicit)\n",
      "2020-06-09 17:46:31,160 INFO sqlalchemy.engine.base.Engine SELECT transactions.sid AS transactions_sid, transactions.date AS transactions_date, transactions.capacity AS transactions_capacity, transactions.turnover AS transactions_turnover, transactions.open AS transactions_open, transactions.high AS transactions_high, transactions.low AS transactions_low, transactions.close AS transactions_close, transactions.transaction AS transactions_transaction \n",
      "FROM transactions \n",
      "WHERE transactions.sid = %(sid_1)s\n",
      "2020-06-09 17:46:31,161 INFO sqlalchemy.engine.base.Engine {'sid_1': '2330'}\n",
      "2020-06-09 17:46:31,181 INFO sqlalchemy.engine.base.Engine ROLLBACK\n"
     ]
    },
    {
     "name": "stderr",
     "output_type": "stream",
     "text": [
      "127.0.0.1 - - [09/Jun/2020 17:46:31] \"\u001b[37mPOST /Kline HTTP/1.1\u001b[0m\" 200 -\n",
      "127.0.0.1 - - [09/Jun/2020 18:04:18] \"\u001b[37mGET / HTTP/1.1\u001b[0m\" 200 -\n",
      "127.0.0.1 - - [09/Jun/2020 18:04:18] \"\u001b[37mGET /static/css/bootstrap.css HTTP/1.1\u001b[0m\" 200 -\n",
      "127.0.0.1 - - [09/Jun/2020 18:04:18] \"\u001b[37mGET /static/css/bootstrap.min.css HTTP/1.1\u001b[0m\" 200 -\n",
      "127.0.0.1 - - [09/Jun/2020 18:04:18] \"\u001b[37mGET /static/js/jquery-3.3.1.min.js HTTP/1.1\u001b[0m\" 200 -\n",
      "127.0.0.1 - - [09/Jun/2020 18:04:18] \"\u001b[37mGET /static/js/post.js HTTP/1.1\u001b[0m\" 200 -\n",
      "127.0.0.1 - - [09/Jun/2020 18:04:18] \"\u001b[37mGET /static/js/echarts.min.js HTTP/1.1\u001b[0m\" 200 -\n",
      "127.0.0.1 - - [09/Jun/2020 18:04:18] \"\u001b[33mGET /favicon.ico HTTP/1.1\u001b[0m\" 404 -\n"
     ]
    },
    {
     "name": "stdout",
     "output_type": "stream",
     "text": [
      "2020-06-09 18:04:29,975 INFO sqlalchemy.engine.base.Engine BEGIN (implicit)\n",
      "2020-06-09 18:04:29,978 INFO sqlalchemy.engine.base.Engine SELECT transactions.sid AS transactions_sid, transactions.date AS transactions_date, transactions.capacity AS transactions_capacity, transactions.turnover AS transactions_turnover, transactions.open AS transactions_open, transactions.high AS transactions_high, transactions.low AS transactions_low, transactions.close AS transactions_close, transactions.transaction AS transactions_transaction \n",
      "FROM transactions \n",
      "WHERE transactions.sid = %(sid_1)s\n",
      "2020-06-09 18:04:29,979 INFO sqlalchemy.engine.base.Engine {'sid_1': '2330'}\n",
      "2020-06-09 18:04:30,001 INFO sqlalchemy.engine.base.Engine ROLLBACK\n"
     ]
    },
    {
     "name": "stderr",
     "output_type": "stream",
     "text": [
      "127.0.0.1 - - [09/Jun/2020 18:04:30] \"\u001b[37mPOST /Kline HTTP/1.1\u001b[0m\" 200 -\n",
      "127.0.0.1 - - [09/Jun/2020 18:05:26] \"\u001b[37mGET / HTTP/1.1\u001b[0m\" 200 -\n",
      "127.0.0.1 - - [09/Jun/2020 18:05:29] \"\u001b[37mGET / HTTP/1.1\u001b[0m\" 200 -\n",
      "127.0.0.1 - - [09/Jun/2020 18:05:29] \"\u001b[37mGET /static/css/bootstrap.css HTTP/1.1\u001b[0m\" 200 -\n",
      "127.0.0.1 - - [09/Jun/2020 18:05:29] \"\u001b[37mGET /static/css/bootstrap.min.css HTTP/1.1\u001b[0m\" 200 -\n",
      "127.0.0.1 - - [09/Jun/2020 18:05:29] \"\u001b[37mGET /static/js/jquery-3.3.1.min.js HTTP/1.1\u001b[0m\" 200 -\n",
      "127.0.0.1 - - [09/Jun/2020 18:05:29] \"\u001b[37mGET /static/js/post.js HTTP/1.1\u001b[0m\" 200 -\n",
      "127.0.0.1 - - [09/Jun/2020 18:05:29] \"\u001b[37mGET /static/js/echarts.min.js HTTP/1.1\u001b[0m\" 200 -\n",
      "127.0.0.1 - - [09/Jun/2020 18:05:29] \"\u001b[33mGET /favicon.ico HTTP/1.1\u001b[0m\" 404 -\n"
     ]
    },
    {
     "name": "stdout",
     "output_type": "stream",
     "text": [
      "2020-06-09 18:05:34,588 INFO sqlalchemy.engine.base.Engine BEGIN (implicit)\n",
      "2020-06-09 18:05:34,591 INFO sqlalchemy.engine.base.Engine SELECT transactions.sid AS transactions_sid, transactions.date AS transactions_date, transactions.capacity AS transactions_capacity, transactions.turnover AS transactions_turnover, transactions.open AS transactions_open, transactions.high AS transactions_high, transactions.low AS transactions_low, transactions.close AS transactions_close, transactions.transaction AS transactions_transaction \n",
      "FROM transactions \n",
      "WHERE transactions.sid = %(sid_1)s\n",
      "2020-06-09 18:05:34,591 INFO sqlalchemy.engine.base.Engine {'sid_1': '2330'}\n",
      "2020-06-09 18:05:34,610 INFO sqlalchemy.engine.base.Engine ROLLBACK\n"
     ]
    },
    {
     "name": "stderr",
     "output_type": "stream",
     "text": [
      "127.0.0.1 - - [09/Jun/2020 18:05:34] \"\u001b[37mPOST /Kline HTTP/1.1\u001b[0m\" 200 -\n",
      "127.0.0.1 - - [09/Jun/2020 18:07:24] \"\u001b[37mGET / HTTP/1.1\u001b[0m\" 200 -\n",
      "127.0.0.1 - - [09/Jun/2020 18:07:24] \"\u001b[37mGET /static/css/bootstrap.css HTTP/1.1\u001b[0m\" 200 -\n",
      "127.0.0.1 - - [09/Jun/2020 18:07:24] \"\u001b[37mGET /static/css/bootstrap.min.css HTTP/1.1\u001b[0m\" 200 -\n",
      "127.0.0.1 - - [09/Jun/2020 18:07:24] \"\u001b[37mGET /static/js/jquery-3.3.1.min.js HTTP/1.1\u001b[0m\" 200 -\n",
      "127.0.0.1 - - [09/Jun/2020 18:07:24] \"\u001b[37mGET /static/js/post.js HTTP/1.1\u001b[0m\" 200 -\n",
      "127.0.0.1 - - [09/Jun/2020 18:07:24] \"\u001b[37mGET /static/js/echarts.min.js HTTP/1.1\u001b[0m\" 200 -\n",
      "127.0.0.1 - - [09/Jun/2020 18:07:24] \"\u001b[33mGET /favicon.ico HTTP/1.1\u001b[0m\" 404 -\n"
     ]
    },
    {
     "name": "stdout",
     "output_type": "stream",
     "text": [
      "2020-06-09 18:07:30,485 INFO sqlalchemy.engine.base.Engine BEGIN (implicit)\n",
      "2020-06-09 18:07:30,488 INFO sqlalchemy.engine.base.Engine SELECT transactions.sid AS transactions_sid, transactions.date AS transactions_date, transactions.capacity AS transactions_capacity, transactions.turnover AS transactions_turnover, transactions.open AS transactions_open, transactions.high AS transactions_high, transactions.low AS transactions_low, transactions.close AS transactions_close, transactions.transaction AS transactions_transaction \n",
      "FROM transactions \n",
      "WHERE transactions.sid = %(sid_1)s\n",
      "2020-06-09 18:07:30,489 INFO sqlalchemy.engine.base.Engine {'sid_1': '2330'}\n",
      "2020-06-09 18:07:30,512 INFO sqlalchemy.engine.base.Engine ROLLBACK\n"
     ]
    },
    {
     "name": "stderr",
     "output_type": "stream",
     "text": [
      "127.0.0.1 - - [09/Jun/2020 18:07:30] \"\u001b[37mPOST /Kline HTTP/1.1\u001b[0m\" 200 -\n",
      "127.0.0.1 - - [09/Jun/2020 18:08:35] \"\u001b[37mGET / HTTP/1.1\u001b[0m\" 200 -\n",
      "127.0.0.1 - - [09/Jun/2020 18:08:35] \"\u001b[37mGET /static/css/bootstrap.css HTTP/1.1\u001b[0m\" 200 -\n",
      "127.0.0.1 - - [09/Jun/2020 18:08:35] \"\u001b[37mGET /static/js/jquery-3.3.1.min.js HTTP/1.1\u001b[0m\" 200 -\n",
      "127.0.0.1 - - [09/Jun/2020 18:08:35] \"\u001b[37mGET /static/css/bootstrap.min.css HTTP/1.1\u001b[0m\" 200 -\n",
      "127.0.0.1 - - [09/Jun/2020 18:08:35] \"\u001b[37mGET /static/js/post.js HTTP/1.1\u001b[0m\" 200 -\n",
      "127.0.0.1 - - [09/Jun/2020 18:08:35] \"\u001b[37mGET /static/js/echarts.min.js HTTP/1.1\u001b[0m\" 200 -\n",
      "127.0.0.1 - - [09/Jun/2020 18:08:35] \"\u001b[33mGET /favicon.ico HTTP/1.1\u001b[0m\" 404 -\n"
     ]
    },
    {
     "name": "stdout",
     "output_type": "stream",
     "text": [
      "2020-06-09 18:08:39,347 INFO sqlalchemy.engine.base.Engine BEGIN (implicit)\n",
      "2020-06-09 18:08:39,351 INFO sqlalchemy.engine.base.Engine SELECT transactions.sid AS transactions_sid, transactions.date AS transactions_date, transactions.capacity AS transactions_capacity, transactions.turnover AS transactions_turnover, transactions.open AS transactions_open, transactions.high AS transactions_high, transactions.low AS transactions_low, transactions.close AS transactions_close, transactions.transaction AS transactions_transaction \n",
      "FROM transactions \n",
      "WHERE transactions.sid = %(sid_1)s\n",
      "2020-06-09 18:08:39,352 INFO sqlalchemy.engine.base.Engine {'sid_1': '2330'}\n",
      "2020-06-09 18:08:39,372 INFO sqlalchemy.engine.base.Engine ROLLBACK\n"
     ]
    },
    {
     "name": "stderr",
     "output_type": "stream",
     "text": [
      "127.0.0.1 - - [09/Jun/2020 18:08:39] \"\u001b[37mPOST /Kline HTTP/1.1\u001b[0m\" 200 -\n"
     ]
    }
   ],
   "source": [
    "from flask import Flask\n",
    "from flask import render_template, request\n",
    "from flask_sqlalchemy import SQLAlchemy\n",
    "import pymysql\n",
    "#import flask_sqlalchemy\n",
    "import config\n",
    "\n",
    "#from sqlalchemy import create_engine\n",
    "#from sqlalchemy.orm import scoped_session, sessionmaker\n",
    "#from sqlalchemy.ext.declarative import declarative_bas\n",
    "\n",
    "\n",
    "import random\n",
    "import datetime\n",
    "import pymysql\n",
    "import pandas as pd\n",
    "\n",
    "from pyecharts import options as opts\n",
    "from pyecharts.charts import Bar\n",
    "from pyecharts.charts import Kline\n",
    "from pyecharts import options as opts\n",
    "#import pyecharts.events as events\n",
    "#from pyecharts_javascripthon.dom import alert\n",
    "\n",
    "\n",
    "\n",
    "app = Flask(__name__)\n",
    "app.config.from_object(config)\n",
    "db = SQLAlchemy(app)\n",
    "\n",
    "db.init_app(app)\n",
    "\n",
    "\n",
    "class transactions(db.Model):\n",
    "    __tablename__ = 'transactions' \n",
    "    sid  = db.Column(db.String(4), primary_key = True)\n",
    "    date = db.Column(db.Date, primary_key =True)\n",
    "    capacity = db.Column(db.Integer)\n",
    "    turnover = db.Column(db.BigInteger)\n",
    "    open = db.Column(db.Float)\n",
    "    high = db.Column(db.Float)\n",
    "    low = db.Column(db.Float)\n",
    "    close = db.Column(db.Float)\n",
    "    transaction = db.Column(db.Integer)\n",
    "    \n",
    "    def __init__(self, sid, date, capacity, turnover, open, high, low, close, transaction):\n",
    "        self.sid = sid\n",
    "        self.city = date\n",
    "        self.addr = capacity\n",
    "        self.pin = turnover\n",
    "        self.open= open\n",
    "        self.high= high\n",
    "        self.low= low\n",
    "        self.close = close\n",
    "        self.transaction= transaction\n",
    "\n",
    "\n",
    "\n",
    "def kline_base(Date, KBar, sid):\n",
    "    kline = Kline()    \n",
    "    kline.add_xaxis(xaxis_data = Date) \n",
    "    kline.add_yaxis(series_name = \"日K線\", \n",
    "                    y_axis = KBar,  \n",
    "                    itemstyle_opts = opts.ItemStyleOpts(color = \"#C23531\",\n",
    "                                                        color0 = \"#00da3c\", \n",
    "                                                        border_color = \"#C23531\", \n",
    "                                                        border_color0 = \"#00da3c\"),\n",
    "                    )\n",
    "    kline.set_series_opts(label_opts=opts.LabelOpts(is_show=False),\n",
    "                             tooltip_opts = opts.TooltipOpts(trigger=\"axis\",\n",
    "                                                             trigger_on = 'click',\n",
    "                                                             axis_pointer_type=\"cross\", \n",
    "                                                             background_color=\"rgba(245, 245, 245, 0.8)\",\n",
    "                                                             border_width=1,\n",
    "                                                             border_color=\"#ccc\",\n",
    "                                                             textstyle_opts=opts.TextStyleOpts(color=\"#000\"), \n",
    "                                                             ),                      \n",
    "                        )\n",
    "    kline.set_global_opts(title_opts = opts.TitleOpts(title = sid, subtitle ='股價'),\n",
    "                              xaxis_opts = opts.AxisOpts(is_scale = True),\n",
    "                              yaxis_opts = opts.AxisOpts(is_scale = True, splitarea_opts = opts.SplitAreaOpts(is_show = True, areastyle_opts = opts.AreaStyleOpts(opacity=1))),    \n",
    "                              datazoom_opts = [opts.DataZoomOpts(type_ = \"inside\"),   \n",
    "                                               opts.DataZoomOpts(is_show=True,  \n",
    "                                                                 type_=\"slider\",),\n",
    "                                               ],\n",
    "                              tooltip_opts = opts.TooltipOpts(trigger=\"axis\",\n",
    "                                                              axis_pointer_type=\"cross\", \n",
    "                                                              background_color=\"rgba(245, 245, 245, 0.8)\",\n",
    "                                                              border_width=1,\n",
    "                                                              border_color=\"#ccc\",\n",
    "                                                              textstyle_opts=opts.TextStyleOpts(color=\"#000\"), \n",
    "                                                              ),\n",
    "                              )\n",
    "\n",
    "    return kline\n",
    "    \n",
    "    \n",
    "@app.route('/Kline', methods=['GET', 'POST'])\n",
    "def get_kline_chart():\n",
    "\n",
    "    #connect_mysql()\n",
    "    if request.method == 'POST':\n",
    "        sid = request.form.get('sid')\n",
    "    query = transactions.query.filter(transactions.sid==sid).all()\n",
    "      \n",
    "    KBar = [] \n",
    "    Date = []\n",
    "     \n",
    "    for _query in query:\n",
    "        #print (_query.date)\n",
    "        #kline = Kline()\n",
    "        #price = [df[\"open\"][i], df[\"close\"][i], df[\"low\"][i], df[\"high\"][i]]\n",
    "        Date.append(_query.date)\n",
    "        KBar.append([_query.open, _query.close, _query.low, _query.high])\n",
    "        kline=kline_base(Date, KBar, sid)\n",
    "        #print(_query.date)\n",
    "        #print([_query.open, _query.close, _query.low, _query.high])\n",
    "        #print(kline.dump_options())\n",
    "    return kline.dump_options()\n",
    "\n",
    "@app.route(\"/\", methods=['GET', 'POST'])\n",
    "def index():\n",
    "    return render_template(\"index.html\")   \n",
    "\n",
    "if __name__ == '__main__':   \n",
    "    #app.run(debug=True)\n",
    "    app.run()"
   ]
  },
  {
   "cell_type": "code",
   "execution_count": null,
   "metadata": {},
   "outputs": [],
   "source": []
  },
  {
   "cell_type": "code",
   "execution_count": null,
   "metadata": {},
   "outputs": [],
   "source": []
  }
 ],
 "metadata": {
  "kernelspec": {
   "display_name": "Python 3",
   "language": "python",
   "name": "python3"
  },
  "language_info": {
   "codemirror_mode": {
    "name": "ipython",
    "version": 3
   },
   "file_extension": ".py",
   "mimetype": "text/x-python",
   "name": "python",
   "nbconvert_exporter": "python",
   "pygments_lexer": "ipython3",
   "version": "3.7.7"
  }
 },
 "nbformat": 4,
 "nbformat_minor": 4
}
