{
 "cells": [
  {
   "cell_type": "markdown",
   "metadata": {},
   "source": [
    "# Candlestick Chat for Stock"
   ]
  },
  {
   "cell_type": "code",
   "execution_count": null,
   "metadata": {},
   "outputs": [
    {
     "name": "stdout",
     "output_type": "stream",
     "text": [
      " * Serving Flask app \"__main__\" (lazy loading)\n",
      " * Environment: production\n",
      "   WARNING: This is a development server. Do not use it in a production deployment.\n",
      "   Use a production WSGI server instead.\n",
      " * Debug mode: off\n"
     ]
    },
    {
     "name": "stderr",
     "output_type": "stream",
     "text": [
      " * Running on http://127.0.0.1:5000/ (Press CTRL+C to quit)\n"
     ]
    },
    {
     "name": "stdout",
     "output_type": "stream",
     "text": [
      "2020-06-08 15:03:08,954 INFO sqlalchemy.engine.base.Engine SHOW VARIABLES LIKE 'sql_mode'\n",
      "2020-06-08 15:03:08,957 INFO sqlalchemy.engine.base.Engine {}\n",
      "2020-06-08 15:03:08,961 INFO sqlalchemy.engine.base.Engine SHOW VARIABLES LIKE 'lower_case_table_names'\n",
      "2020-06-08 15:03:08,961 INFO sqlalchemy.engine.base.Engine {}\n",
      "2020-06-08 15:03:08,965 INFO sqlalchemy.engine.base.Engine SELECT DATABASE()\n",
      "2020-06-08 15:03:08,966 INFO sqlalchemy.engine.base.Engine {}\n",
      "2020-06-08 15:03:08,968 INFO sqlalchemy.engine.base.Engine show collation where `Charset` = 'utf8mb4' and `Collation` = 'utf8mb4_bin'\n",
      "2020-06-08 15:03:08,969 INFO sqlalchemy.engine.base.Engine {}\n",
      "2020-06-08 15:03:08,972 INFO sqlalchemy.engine.base.Engine SELECT CAST('test plain returns' AS CHAR(60)) AS anon_1\n",
      "2020-06-08 15:03:08,973 INFO sqlalchemy.engine.base.Engine {}\n",
      "2020-06-08 15:03:08,974 INFO sqlalchemy.engine.base.Engine SELECT CAST('test unicode returns' AS CHAR(60)) AS anon_1\n",
      "2020-06-08 15:03:08,975 INFO sqlalchemy.engine.base.Engine {}\n",
      "2020-06-08 15:03:08,976 INFO sqlalchemy.engine.base.Engine SELECT CAST('test collated returns' AS CHAR CHARACTER SET utf8mb4) COLLATE utf8mb4_bin AS anon_1\n",
      "2020-06-08 15:03:08,977 INFO sqlalchemy.engine.base.Engine {}\n",
      "2020-06-08 15:03:08,979 INFO sqlalchemy.engine.base.Engine BEGIN (implicit)\n",
      "2020-06-08 15:03:08,981 INFO sqlalchemy.engine.base.Engine SELECT transactions.sid AS transactions_sid, transactions.date AS transactions_date, transactions.capacity AS transactions_capacity, transactions.turnover AS transactions_turnover, transactions.open AS transactions_open, transactions.high AS transactions_high, transactions.low AS transactions_low, transactions.close AS transactions_close, transactions.transaction AS transactions_transaction \n",
      "FROM transactions \n",
      "WHERE transactions.sid = %(sid_1)s\n",
      "2020-06-08 15:03:08,981 INFO sqlalchemy.engine.base.Engine {'sid_1': '1101'}\n",
      "2020-06-08 15:03:08,998 INFO sqlalchemy.engine.base.Engine ROLLBACK\n"
     ]
    },
    {
     "name": "stderr",
     "output_type": "stream",
     "text": [
      "127.0.0.1 - - [08/Jun/2020 15:03:08] \"\u001b[37mPOST /Kline HTTP/1.1\u001b[0m\" 200 -\n"
     ]
    },
    {
     "name": "stdout",
     "output_type": "stream",
     "text": [
      "2020-06-08 15:03:13,143 INFO sqlalchemy.engine.base.Engine BEGIN (implicit)\n",
      "2020-06-08 15:03:13,146 INFO sqlalchemy.engine.base.Engine SELECT transactions.sid AS transactions_sid, transactions.date AS transactions_date, transactions.capacity AS transactions_capacity, transactions.turnover AS transactions_turnover, transactions.open AS transactions_open, transactions.high AS transactions_high, transactions.low AS transactions_low, transactions.close AS transactions_close, transactions.transaction AS transactions_transaction \n",
      "FROM transactions \n",
      "WHERE transactions.sid = %(sid_1)s\n",
      "2020-06-08 15:03:13,147 INFO sqlalchemy.engine.base.Engine {'sid_1': '2330'}\n",
      "2020-06-08 15:03:13,166 INFO sqlalchemy.engine.base.Engine ROLLBACK\n"
     ]
    },
    {
     "name": "stderr",
     "output_type": "stream",
     "text": [
      "127.0.0.1 - - [08/Jun/2020 15:03:13] \"\u001b[37mPOST /Kline HTTP/1.1\u001b[0m\" 200 -\n"
     ]
    },
    {
     "name": "stdout",
     "output_type": "stream",
     "text": [
      "2020-06-08 15:03:23,822 INFO sqlalchemy.engine.base.Engine BEGIN (implicit)\n",
      "2020-06-08 15:03:23,825 INFO sqlalchemy.engine.base.Engine SELECT transactions.sid AS transactions_sid, transactions.date AS transactions_date, transactions.capacity AS transactions_capacity, transactions.turnover AS transactions_turnover, transactions.open AS transactions_open, transactions.high AS transactions_high, transactions.low AS transactions_low, transactions.close AS transactions_close, transactions.transaction AS transactions_transaction \n",
      "FROM transactions \n",
      "WHERE transactions.sid = %(sid_1)s\n",
      "2020-06-08 15:03:23,825 INFO sqlalchemy.engine.base.Engine {'sid_1': '2498'}\n",
      "2020-06-08 15:03:23,844 INFO sqlalchemy.engine.base.Engine ROLLBACK\n"
     ]
    },
    {
     "name": "stderr",
     "output_type": "stream",
     "text": [
      "127.0.0.1 - - [08/Jun/2020 15:03:23] \"\u001b[37mPOST /Kline HTTP/1.1\u001b[0m\" 200 -\n"
     ]
    }
   ],
   "source": [
    "from flask import Flask\n",
    "from flask import render_template, request\n",
    "from flask_sqlalchemy import SQLAlchemy\n",
    "import pymysql\n",
    "#import flask_sqlalchemy\n",
    "import config\n",
    "\n",
    "#from sqlalchemy import create_engine\n",
    "#from sqlalchemy.orm import scoped_session, sessionmaker\n",
    "#from sqlalchemy.ext.declarative import declarative_bas\n",
    "\n",
    "\n",
    "import random\n",
    "import datetime\n",
    "import pymysql\n",
    "import pandas as pd\n",
    "\n",
    "from pyecharts import options as opts\n",
    "from pyecharts.charts import Bar\n",
    "from pyecharts.charts import Kline\n",
    "from pyecharts import options as opts\n",
    "\n",
    "\n",
    "app = Flask(__name__)\n",
    "app.config.from_object(config)\n",
    "db = SQLAlchemy(app)\n",
    "\n",
    "db.init_app(app)\n",
    "\n",
    "\n",
    "class transactions(db.Model):\n",
    "    __tablename__ = 'transactions' \n",
    "    sid  = db.Column(db.String(4), primary_key = True)\n",
    "    date = db.Column(db.Date, primary_key =True)\n",
    "    capacity = db.Column(db.Integer)\n",
    "    turnover = db.Column(db.BigInteger)\n",
    "    open = db.Column(db.Float)\n",
    "    high = db.Column(db.Float)\n",
    "    low = db.Column(db.Float)\n",
    "    close = db.Column(db.Float)\n",
    "    transaction = db.Column(db.Integer)\n",
    "    \n",
    "    def __init__(self, sid, date, capacity, turnover, open, high, low, close, transaction):\n",
    "        self.sid = sid\n",
    "        self.city = date\n",
    "        self.addr = capacity\n",
    "        self.pin = turnover\n",
    "        self.open= open\n",
    "        self.high= high\n",
    "        self.low= low\n",
    "        self.close = close\n",
    "        self.transaction= transaction\n",
    "        \n",
    "#db.create_all()\n",
    "\n",
    "#def connect_mysql():  #連線資料庫\n",
    "#    global connect, cursor\n",
    "#    connect = pymysql.connect(host = MYSQL_HOST, db = MYSQL_DB, user = MYSQL_USER, password = MYSQL_PASS,\n",
    "#            charset = 'utf8', use_unicode = True)\n",
    "#    cursor = connect.cursor()\n",
    "\n",
    "def kline_base(Date, KBar, sid):\n",
    "    kline = Kline()    \n",
    "    kline.add_xaxis(xaxis_data = Date) \n",
    "    kline.add_yaxis(series_name = \"股價\", \n",
    "                    y_axis = KBar,  \n",
    "                    itemstyle_opts = opts.ItemStyleOpts(color = \"#C23531\",\n",
    "                                                        color0 = \"#00da3c\", \n",
    "                                                        border_color = \"#C23531\", \n",
    "                                                        border_color0 = \"#00da3c\"),\n",
    "                    )\n",
    "    kline.set_global_opts(title_opts = opts.TitleOpts(title = sid),\n",
    "                              xaxis_opts = opts.AxisOpts(is_scale = True),\n",
    "                              yaxis_opts = opts.AxisOpts(is_scale = True, splitarea_opts = opts.SplitAreaOpts(is_show = True, areastyle_opts = opts.AreaStyleOpts(opacity=1))), \n",
    "                              datazoom_opts = [opts.DataZoomOpts(type_ = \"inside\"),   \n",
    "                                               opts.DataZoomOpts(is_show=True,  \n",
    "                                                                 type_=\"slider\",),\n",
    "                                               ],\n",
    "                              tooltip_opts = opts.TooltipOpts(trigger=\"axis\", \n",
    "                                                              axis_pointer_type=\"cross\", \n",
    "                                                              background_color=\"rgba(245, 245, 245, 0.8)\",\n",
    "                                                              border_width=1,\n",
    "                                                              border_color=\"#ccc\",\n",
    "                                                              textstyle_opts=opts.TextStyleOpts(color=\"#000\"), \n",
    "                                                              ),\n",
    "                              )\n",
    "\n",
    "    return kline\n",
    "    \n",
    "    \n",
    "@app.route('/Kline', methods=['GET', 'POST'])\n",
    "def get_kline_chart():\n",
    "\n",
    "    #connect_mysql()\n",
    "    if request.method == 'POST':\n",
    "        sid = request.form.get('sid')\n",
    "    query = transactions.query.filter(transactions.sid==sid).all()\n",
    "    \n",
    "    #engine = create_engine(SQLALCHEMY_DATABASE_URI)\n",
    "    \n",
    "    #__tablename__ = 'transactions'\n",
    " \n",
    "    #sqlcmd='SELECT date, open, high, low, close FROM {} where sid={}'.format(__tablename__, sid)\n",
    "    #print(sqlcmd)\n",
    "    #query_data = db.engine.execute(sqlcmd)\n",
    "    #query_data = db.session.execute(sqlcmd)\n",
    "    \n",
    "    #print(query_data)\n",
    "    #df = pd.DataFrame(query, index_col = 'date')\n",
    "    #print(df)\n",
    "    #df = pd.read_sql(sqlcmd, con = engine, index_col = 'date')\n",
    "    #cursor.close()\n",
    "    #connect.close()\n",
    "    KBar = [] \n",
    "    Date = []\n",
    "    \n",
    "    #Date = df.index.tolist()\n",
    "    #print(Date)\n",
    "    #Kbar = df[['open', 'close', 'low', 'high']].values.tolist()\n",
    "    #print(Kbar)\n",
    "    \n",
    "    #for i in range(0, df.shape[0]):\n",
    "    for _query in query:\n",
    "        #print (_query.date)\n",
    "        #kline = Kline()\n",
    "        #price = [df[\"open\"][i], df[\"close\"][i], df[\"low\"][i], df[\"high\"][i]]\n",
    "        Date.append(_query.date)\n",
    "        KBar.append([_query.open, _query.close, _query.low, _query.high])\n",
    "        kline=kline_base(Date, KBar, sid)\n",
    "        #print(_query.date)\n",
    "        #print([_query.open, _query.close, _query.low, _query.high])\n",
    "    #print(kline)\n",
    "    return kline.dump_options()\n",
    "    \n",
    "  \n",
    "    \n",
    "    #kline.render('templates\\candlestick.html')\n",
    "    #return render_template(\"candlestick.html\")\n",
    "\n",
    "\n",
    "@app.route(\"/\", methods=['GET', 'POST'])\n",
    "def index():\n",
    "    return render_template(\"index.html\")   \n",
    "\n",
    "if __name__ == '__main__':   \n",
    "    #db.init_app(app)\n",
    "    #conn = db.engine.connect().connection\n",
    "    #app.run(debug=True)\n",
    "    app.run()"
   ]
  }
 ],
 "metadata": {
  "kernelspec": {
   "display_name": "Python 3",
   "language": "python",
   "name": "python3"
  },
  "language_info": {
   "codemirror_mode": {
    "name": "ipython",
    "version": 3
   },
   "file_extension": ".py",
   "mimetype": "text/x-python",
   "name": "python",
   "nbconvert_exporter": "python",
   "pygments_lexer": "ipython3",
   "version": "3.7.7"
  }
 },
 "nbformat": 4,
 "nbformat_minor": 4
}
